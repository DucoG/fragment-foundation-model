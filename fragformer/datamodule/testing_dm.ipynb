{
 "cells": [
  {
   "cell_type": "code",
   "execution_count": 5,
   "metadata": {},
   "outputs": [
    {
     "name": "stdout",
     "output_type": "stream",
     "text": [
      "The autoreload extension is already loaded. To reload it, use:\n",
      "  %reload_ext autoreload\n"
     ]
    }
   ],
   "source": [
    "%load_ext autoreload\n",
    "%autoreload 2"
   ]
  },
  {
   "cell_type": "code",
   "execution_count": 10,
   "metadata": {},
   "outputs": [],
   "source": [
    "from fragformer.datamodule.pretrain_datamodule import PretrainDataModule\n",
    "from fragformer.datamodule.components.tokenizers import BasicTokenizer\n",
    "from pathlib import Path"
   ]
  },
  {
   "cell_type": "code",
   "execution_count": 13,
   "metadata": {},
   "outputs": [],
   "source": [
    "parquet_path = Path('/home/d.gaillard/projects/fragment_autoencoder/data/full_fragments_top1_mal_shuffled/PGDX25828P_WGS_hg19_mrk_25length_fragment_end_motifs_shuffled.parquet')\n",
    "parquet_path = list(parquet_path.glob('*.parquet'))\n",
    "\n",
    "parquet_path = '/home/d.gaillard/projects/fragment_autoencoder/data/full_fragments_top1_mal_shuffled/PGDX25828P_WGS_hg19_mrk_25length_fragment_end_motifs_shuffled.parquet'\n"
   ]
  },
  {
   "cell_type": "code",
   "execution_count": 17,
   "metadata": {},
   "outputs": [],
   "source": [
    "dm = PretrainDataModule(\n",
    "    parquet_path=parquet_path,\n",
    "    columns=['read1_seq', 'read2_seq'],\n",
    "    tokenizer=BasicTokenizer('ACTG'),\n",
    "    batch_size=2**14,\n",
    "    num_workers=0,\n",
    "    pin_memory=True)"
   ]
  },
  {
   "cell_type": "code",
   "execution_count": 18,
   "metadata": {},
   "outputs": [],
   "source": [
    "dm.setup()"
   ]
  },
  {
   "cell_type": "code",
   "execution_count": 19,
   "metadata": {},
   "outputs": [
    {
     "name": "stdout",
     "output_type": "stream",
     "text": [
      "tensor([[7., 1., 2.,  ..., 4., 3., 6.],\n",
      "        [7., 4., 3.,  ..., 1., 4., 6.],\n",
      "        [7., 4., 3.,  ..., 3., 3., 6.],\n",
      "        ...,\n",
      "        [7., 3., 2.,  ..., 2., 1., 6.],\n",
      "        [7., 2., 1.,  ..., 1., 1., 6.],\n",
      "        [7., 3., 1.,  ..., 4., 3., 6.]])\n"
     ]
    }
   ],
   "source": [
    "for batch in dm.train_dataloader():\n",
    "    print(batch)\n",
    "    break"
   ]
  },
  {
   "cell_type": "code",
   "execution_count": null,
   "metadata": {},
   "outputs": [],
   "source": []
  }
 ],
 "metadata": {
  "kernelspec": {
   "display_name": "pytorch",
   "language": "python",
   "name": "python3"
  },
  "language_info": {
   "codemirror_mode": {
    "name": "ipython",
    "version": 3
   },
   "file_extension": ".py",
   "mimetype": "text/x-python",
   "name": "python",
   "nbconvert_exporter": "python",
   "pygments_lexer": "ipython3",
   "version": "3.10.14"
  }
 },
 "nbformat": 4,
 "nbformat_minor": 2
}
