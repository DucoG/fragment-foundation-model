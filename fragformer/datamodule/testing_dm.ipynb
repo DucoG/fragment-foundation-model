{
 "cells": [
  {
   "cell_type": "code",
   "execution_count": 1,
   "metadata": {},
   "outputs": [],
   "source": [
    "%load_ext autoreload\n",
    "%autoreload 2"
   ]
  },
  {
   "cell_type": "code",
   "execution_count": 2,
   "metadata": {},
   "outputs": [],
   "source": [
    "import sys\n",
    "sys.path.append('../..')\n",
    "\n",
    "from fragformer.datamodule.pretrain_datamodule import PretrainDataModule\n",
    "from fragformer.datamodule.components.tokenizers import BasicTokenizer\n",
    "from pathlib import Path"
   ]
  },
  {
   "cell_type": "code",
   "execution_count": 3,
   "metadata": {},
   "outputs": [],
   "source": [
    "parquet_path = Path('/processing/d.gaillard/top1_mal_full_fragments/PGDX25828P_WGS_hg19_mrk_25length_fragment_end_motifs_shuffled.parquet')\n",
    "# parquet_path = list(parquet_path.glob('*.parquet'))\n",
    "\n",
    "# parquet_path = '/home/d.gaillard/projects/fragment_autoencoder/data/full_fragments_top1_mal_shuffled/PGDX25828P_WGS_hg19_mrk_25length_fragment_end_motifs_shuffled.parquet'\n"
   ]
  },
  {
   "cell_type": "code",
   "execution_count": 4,
   "metadata": {},
   "outputs": [],
   "source": [
    "dm = PretrainDataModule(\n",
    "    parquet_path=parquet_path,\n",
    "    columns=['read1_seq', 'read2_seq'],\n",
    "    tokenizer=BasicTokenizer('ACTG'),\n",
    "    batch_size=2**14,\n",
    "    num_workers=0,\n",
    "    pin_memory=True)"
   ]
  },
  {
   "cell_type": "code",
   "execution_count": 5,
   "metadata": {},
   "outputs": [],
   "source": [
    "dm.setup()"
   ]
  },
  {
   "cell_type": "code",
   "execution_count": 6,
   "metadata": {},
   "outputs": [
    {
     "name": "stdout",
     "output_type": "stream",
     "text": [
      "tensor([[7., 1., 3.,  ..., 3., 3., 6.],\n",
      "        [7., 4., 2.,  ..., 3., 3., 6.],\n",
      "        [7., 4., 2.,  ..., 3., 1., 6.],\n",
      "        ...,\n",
      "        [7., 4., 4.,  ..., 3., 2., 6.],\n",
      "        [7., 1., 1.,  ..., 2., 1., 6.],\n",
      "        [7., 1., 3.,  ..., 3., 4., 6.]])\n"
     ]
    }
   ],
   "source": [
    "for batch in dm.train_dataloader():\n",
    "    print(batch)\n",
    "    break"
   ]
  },
  {
   "cell_type": "code",
   "execution_count": 7,
   "metadata": {},
   "outputs": [
    {
     "data": {
      "text/plain": [
       "torch.Size([16384, 103])"
      ]
     },
     "execution_count": 7,
     "metadata": {},
     "output_type": "execute_result"
    }
   ],
   "source": [
    "batch.shape"
   ]
  },
  {
   "cell_type": "code",
   "execution_count": null,
   "metadata": {},
   "outputs": [],
   "source": []
  }
 ],
 "metadata": {
  "kernelspec": {
   "display_name": "pytorch",
   "language": "python",
   "name": "python3"
  },
  "language_info": {
   "codemirror_mode": {
    "name": "ipython",
    "version": 3
   },
   "file_extension": ".py",
   "mimetype": "text/x-python",
   "name": "python",
   "nbconvert_exporter": "python",
   "pygments_lexer": "ipython3",
   "version": "3.10.14"
  }
 },
 "nbformat": 4,
 "nbformat_minor": 2
}
